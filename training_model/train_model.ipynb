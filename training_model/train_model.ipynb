{
 "cells": [
  {
   "cell_type": "code",
   "execution_count": 51,
   "id": "initial_id",
   "metadata": {
    "collapsed": true,
    "ExecuteTime": {
     "end_time": "2024-04-09T03:45:25.401795700Z",
     "start_time": "2024-04-09T03:45:25.384181Z"
    }
   },
   "outputs": [],
   "source": [
    "from sklearn.linear_model import LogisticRegression\n",
    "import pandas as pd\n"
   ]
  },
  {
   "cell_type": "code",
   "outputs": [],
   "source": [
    "df_final= pd.read_csv(\"../data/processed/df_final.csv\")"
   ],
   "metadata": {
    "collapsed": false,
    "ExecuteTime": {
     "end_time": "2024-04-09T03:45:26.116157100Z",
     "start_time": "2024-04-09T03:45:26.028879100Z"
    }
   },
   "id": "861bb1435b6cedd9",
   "execution_count": 52
  },
  {
   "cell_type": "code",
   "outputs": [],
   "source": [
    "df_X= df_final.drop(['Churn'], axis=1)\n",
    "df_y= df_final['Churn']"
   ],
   "metadata": {
    "collapsed": false,
    "ExecuteTime": {
     "end_time": "2024-04-09T03:45:26.667157Z",
     "start_time": "2024-04-09T03:45:26.643143900Z"
    }
   },
   "id": "51067482ef57b997",
   "execution_count": 53
  },
  {
   "cell_type": "code",
   "outputs": [],
   "source": [
    "from sklearn.model_selection import train_test_split\n",
    "\n",
    "X_train, X_test, y_train, y_test = train_test_split(df_X, df_y, test_size=0.8,\n",
    "                                                    random_state=4)"
   ],
   "metadata": {
    "collapsed": false,
    "ExecuteTime": {
     "end_time": "2024-04-09T03:45:27.330734300Z",
     "start_time": "2024-04-09T03:45:27.306049600Z"
    }
   },
   "id": "da001be9a7bfdc87",
   "execution_count": 54
  },
  {
   "cell_type": "code",
   "outputs": [
    {
     "name": "stderr",
     "output_type": "stream",
     "text": [
      "C:\\Users\\tatob\\Documents\\churn-app-2024-1\\.venv\\Lib\\site-packages\\sklearn\\linear_model\\_logistic.py:469: ConvergenceWarning: lbfgs failed to converge (status=1):\n",
      "STOP: TOTAL NO. of ITERATIONS REACHED LIMIT.\n",
      "\n",
      "Increase the number of iterations (max_iter) or scale the data as shown in:\n",
      "    https://scikit-learn.org/stable/modules/preprocessing.html\n",
      "Please also refer to the documentation for alternative solver options:\n",
      "    https://scikit-learn.org/stable/modules/linear_model.html#logistic-regression\n",
      "  n_iter_i = _check_optimize_result(\n",
      "C:\\Users\\tatob\\Documents\\churn-app-2024-1\\.venv\\Lib\\site-packages\\_distutils_hack\\__init__.py:18: UserWarning: Distutils was imported before Setuptools, but importing Setuptools also replaces the `distutils` module in `sys.modules`. This may lead to undesirable behaviors or errors. To avoid these issues, avoid using distutils directly, ensure that setuptools is installed in the traditional way (e.g. not an editable install), and/or make sure that setuptools is always imported before distutils.\n",
      "  warnings.warn(\n",
      "C:\\Users\\tatob\\Documents\\churn-app-2024-1\\.venv\\Lib\\site-packages\\_distutils_hack\\__init__.py:33: UserWarning: Setuptools is replacing distutils.\n",
      "  warnings.warn(\"Setuptools is replacing distutils.\")\n"
     ]
    }
   ],
   "source": [
    "import mlflow\n",
    "from sklearn.ensemble import AdaBoostClassifier\n",
    "from sklearn.metrics import roc_auc_score, accuracy_score, precision_score, recall_score\n",
    " \n",
    "name_model = \"LogisticRegression\"\n",
    "\n",
    "developer = \"Santiago Aguirre\"\n",
    " \n",
    "parameters = {\n",
    "    \"penalty\": \"l2\", \n",
    "\n",
    "    \"random_state\": 42,\n",
    "\n",
    "    \"C\": 0.7\n",
    "\n",
    "}\n",
    "\n",
    "with mlflow.start_run(run_name=name_model):\n",
    "\n",
    "    mlflow.log_param(\"model\", name_model)\n",
    "\n",
    "    mlflow.log_param(\"developer\", developer)\n",
    "\n",
    "    # Registrar parámetros del modelo\n",
    "\n",
    "    mlflow.log_params(parameters)\n",
    "\n",
    "    # Entrena un clasificador AdaBoost\n",
    "\n",
    "    ada_clf = LogisticRegression(**parameters)\n",
    "\n",
    "    ada_clf.fit(X_train, y_train)\n",
    "\n",
    "    # Realizar predicciones\n",
    "\n",
    "    predictions = ada_clf.predict(X_test)\n",
    "\n",
    "    predictions_proba = ada_clf.predict_proba(X_test)[:, 1]\n",
    " \n",
    "    # Calcular métricas\n",
    "\n",
    "    accuracy = accuracy_score(y_test, predictions)\n",
    "\n",
    "    precision = precision_score(y_test, predictions)\n",
    "\n",
    "    recall = recall_score(y_test, predictions)\n",
    "\n",
    "    roc_auc = roc_auc_score(y_test, predictions_proba)\n",
    " \n",
    "    # Registrar métricas\n",
    "\n",
    "    mlflow.log_metric(\"roc_auc\", roc_auc)\n",
    "\n",
    "    mlflow.log_metric(\"accuracy\", accuracy)\n",
    "\n",
    "    mlflow.log_metric(\"precision\", precision)\n",
    "\n",
    "    mlflow.log_metric(\"recall\", recall)\n",
    "\n",
    "    # Registrar el modelo\n",
    "\n",
    "    mlflow.sklearn.log_model(ada_clf, \"logistic_classifier\")\n"
   ],
   "metadata": {
    "collapsed": false,
    "ExecuteTime": {
     "end_time": "2024-04-09T03:52:44.400831500Z",
     "start_time": "2024-04-09T03:52:32.617274100Z"
    }
   },
   "id": "15c4576db60d585e",
   "execution_count": 58
  },
  {
   "cell_type": "code",
   "outputs": [],
   "source": [
    "import dagshub\n",
    "import mlflow\n",
    "\n",
    "dagshub.init(\"churn-app-2024-1\", \"SantiagoAguirre2002\", mlflow=True)\n",
    "mlflow.set_tracking_uri('https://dagshub.com/SantiagoAguirre2002/churn-app-2024-1.mlflow')\n",
    "\n"
   ],
   "metadata": {
    "collapsed": false,
    "ExecuteTime": {
     "start_time": "2024-04-09T03:42:14.777788500Z"
    }
   },
   "id": "3a8f17f8f18369f5",
   "execution_count": null
  },
  {
   "cell_type": "code",
   "outputs": [],
   "source": [],
   "metadata": {
    "collapsed": false,
    "ExecuteTime": {
     "start_time": "2024-04-09T03:18:20.028977500Z"
    }
   },
   "id": "10fd2938361cc7cf"
  },
  {
   "cell_type": "code",
   "outputs": [],
   "source": [],
   "metadata": {
    "collapsed": false
   },
   "id": "e22c676d350ff322"
  }
 ],
 "metadata": {
  "kernelspec": {
   "display_name": "Python 3",
   "language": "python",
   "name": "python3"
  },
  "language_info": {
   "codemirror_mode": {
    "name": "ipython",
    "version": 2
   },
   "file_extension": ".py",
   "mimetype": "text/x-python",
   "name": "python",
   "nbconvert_exporter": "python",
   "pygments_lexer": "ipython2",
   "version": "2.7.6"
  }
 },
 "nbformat": 4,
 "nbformat_minor": 5
}
