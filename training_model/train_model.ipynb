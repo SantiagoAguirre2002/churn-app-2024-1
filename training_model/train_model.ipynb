{
 "cells": [
  {
   "cell_type": "code",
   "execution_count": 27,
   "id": "initial_id",
   "metadata": {
    "collapsed": true,
    "ExecuteTime": {
     "end_time": "2024-04-09T03:24:20.363629100Z",
     "start_time": "2024-04-09T03:24:20.350807300Z"
    }
   },
   "outputs": [],
   "source": [
    "from sklearn.linear_model import LogisticRegression \n",
    "import pandas as pd\n"
   ]
  },
  {
   "cell_type": "code",
   "outputs": [],
   "source": [
    "df_final= pd.read_csv(\"../data/processed/df_final.csv\")"
   ],
   "metadata": {
    "collapsed": false,
    "ExecuteTime": {
     "end_time": "2024-04-09T03:24:21.082171800Z",
     "start_time": "2024-04-09T03:24:21.011086300Z"
    }
   },
   "id": "861bb1435b6cedd9",
   "execution_count": 28
  },
  {
   "cell_type": "code",
   "outputs": [],
   "source": [
    "df_X= df_final.drop(['Churn'], axis=1)\n",
    "df_y= df_final['Churn']"
   ],
   "metadata": {
    "collapsed": false,
    "ExecuteTime": {
     "end_time": "2024-04-09T03:24:21.663513100Z",
     "start_time": "2024-04-09T03:24:21.653671900Z"
    }
   },
   "id": "51067482ef57b997",
   "execution_count": 29
  },
  {
   "cell_type": "code",
   "outputs": [],
   "source": [
    "from sklearn.model_selection import train_test_split\n",
    "\n",
    "X_train, X_test, y_train, y_test = train_test_split(df_X, df_y, test_size=0.8,\n",
    "                                                    random_state=4)"
   ],
   "metadata": {
    "collapsed": false,
    "ExecuteTime": {
     "end_time": "2024-04-09T03:24:22.439485600Z",
     "start_time": "2024-04-09T03:24:22.429714800Z"
    }
   },
   "id": "da001be9a7bfdc87",
   "execution_count": 30
  },
  {
   "cell_type": "code",
   "outputs": [
    {
     "ename": "TypeError",
     "evalue": "AdaBoostClassifier.__init__() got an unexpected keyword argument 'penalty'",
     "output_type": "error",
     "traceback": [
      "\u001B[1;31m---------------------------------------------------------------------------\u001B[0m",
      "\u001B[1;31mTypeError\u001B[0m                                 Traceback (most recent call last)",
      "Cell \u001B[1;32mIn[31], line 32\u001B[0m\n\u001B[0;32m     28\u001B[0m mlflow\u001B[38;5;241m.\u001B[39mlog_params(parameters)\n\u001B[0;32m     30\u001B[0m \u001B[38;5;66;03m# Entrena un clasificador AdaBoost\u001B[39;00m\n\u001B[1;32m---> 32\u001B[0m ada_clf \u001B[38;5;241m=\u001B[39m \u001B[43mAdaBoostClassifier\u001B[49m\u001B[43m(\u001B[49m\u001B[38;5;241;43m*\u001B[39;49m\u001B[38;5;241;43m*\u001B[39;49m\u001B[43mparameters\u001B[49m\u001B[43m)\u001B[49m\n\u001B[0;32m     34\u001B[0m ada_clf\u001B[38;5;241m.\u001B[39mfit(X_train, y_train)\n\u001B[0;32m     36\u001B[0m \u001B[38;5;66;03m# Realizar predicciones\u001B[39;00m\n",
      "\u001B[1;31mTypeError\u001B[0m: AdaBoostClassifier.__init__() got an unexpected keyword argument 'penalty'"
     ]
    }
   ],
   "source": [
    "import mlflow\n",
    "from sklearn.linear_model import LogisticRegression \n",
    "from sklearn.ensemble import VotingRegressor\n",
    "\n",
    "from sklearn.metrics import roc_auc_score, accuracy_score, precision_score, recall_score\n",
    " \n",
    "name_model = \"LogisticRegression\"\n",
    "\n",
    "developer = \"Santiago Aguirre\"\n",
    " \n",
    "parameters = {\n",
    "    \"penalty\": \"12\", \n",
    "\n",
    "    \"random_state\": 42,\n",
    "\n",
    "    \"C\": 0.7\n",
    "\n",
    "}\n",
    "\n",
    "with mlflow.start_run(run_name=name_model):\n",
    "\n",
    "    mlflow.log_param(\"model\", name_model)\n",
    "\n",
    "    mlflow.log_param(\"developer\", developer)\n",
    "\n",
    "    # Registrar parámetros del modelo\n",
    "\n",
    "    mlflow.log_params(parameters)\n",
    "\n",
    "    # Entrena un clasificador AdaBoost\n",
    "\n",
    "    ada_clf = AdaBoostClassifier(**parameters)\n",
    "\n",
    "    ada_clf.fit(X_train, y_train)\n",
    "\n",
    "    # Realizar predicciones\n",
    "\n",
    "    predictions = ada_clf.predict(X_test)\n",
    "\n",
    "    predictions_proba = ada_clf.predict_proba(X_test)[:, 1]\n",
    " \n",
    "    # Calcular métricas\n",
    "\n",
    "    accuracy = accuracy_score(y_test, predictions)\n",
    "\n",
    "    precision = precision_score(y_test, predictions)\n",
    "\n",
    "    recall = recall_score(y_test, predictions)\n",
    "\n",
    "    roc_auc = roc_auc_score(y_test, predictions_proba)\n",
    " \n",
    "    # Registrar métricas\n",
    "\n",
    "    mlflow.log_metric(\"roc_auc\", roc_auc)\n",
    "\n",
    "    mlflow.log_metric(\"accuracy\", accuracy)\n",
    "\n",
    "    mlflow.log_metric(\"precision\", precision)\n",
    "\n",
    "    mlflow.log_metric(\"recall\", recall)\n",
    "\n",
    "    # Registrar el modelo\n",
    "\n",
    "    mlflow.sklearn.log_model(ada_clf, \"logistic_classifier\")\n"
   ],
   "metadata": {
    "collapsed": false,
    "ExecuteTime": {
     "end_time": "2024-04-09T03:24:24.202109800Z",
     "start_time": "2024-04-09T03:24:24.098059600Z"
    }
   },
   "id": "15c4576db60d585e",
   "execution_count": 31
  },
  {
   "cell_type": "code",
   "outputs": [],
   "source": [],
   "metadata": {
    "collapsed": false,
    "ExecuteTime": {
     "start_time": "2024-04-09T03:18:20.025981Z"
    }
   },
   "id": "3a8f17f8f18369f5"
  },
  {
   "cell_type": "code",
   "outputs": [],
   "source": [],
   "metadata": {
    "collapsed": false,
    "ExecuteTime": {
     "start_time": "2024-04-09T03:18:20.028977500Z"
    }
   },
   "id": "10fd2938361cc7cf"
  },
  {
   "cell_type": "code",
   "outputs": [],
   "source": [],
   "metadata": {
    "collapsed": false
   },
   "id": "e22c676d350ff322"
  }
 ],
 "metadata": {
  "kernelspec": {
   "display_name": "Python 3",
   "language": "python",
   "name": "python3"
  },
  "language_info": {
   "codemirror_mode": {
    "name": "ipython",
    "version": 2
   },
   "file_extension": ".py",
   "mimetype": "text/x-python",
   "name": "python",
   "nbconvert_exporter": "python",
   "pygments_lexer": "ipython2",
   "version": "2.7.6"
  }
 },
 "nbformat": 4,
 "nbformat_minor": 5
}
